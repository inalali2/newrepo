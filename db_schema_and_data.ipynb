{
 "cells": [
  {
   "cell_type": "code",
   "execution_count": 1,
   "metadata": {},
   "outputs": [],
   "source": [
    "%load_ext sql"
   ]
  },
  {
   "cell_type": "code",
   "execution_count": 2,
   "metadata": {},
   "outputs": [],
   "source": [
    "%sql sqlite:///council.db"
   ]
  },
  {
   "cell_type": "code",
   "execution_count": 3,
   "metadata": {},
   "outputs": [
    {
     "name": "stdout",
     "output_type": "stream",
     "text": [
      " * sqlite:///council.db\n",
      "Done.\n",
      "Done.\n"
     ]
    },
    {
     "data": {
      "text/plain": [
       "[]"
      ]
     },
     "execution_count": 3,
     "metadata": {},
     "output_type": "execute_result"
    }
   ],
   "source": [
    "%%sql\n",
    "DROP TABLE IF EXISTS Researcher;\n",
    "CREATE TABLE Researcher (\n",
    "    emailAddress,\n",
    "    firstName CHAR(15),\n",
    "    lastName CHAR(15),\n",
    "    Organization CHAR(10),\n",
    "    PRIMARY KEY (emailAddress)\n",
    ");"
   ]
  },
  {
   "cell_type": "code",
   "execution_count": 4,
   "metadata": {},
   "outputs": [
    {
     "name": "stdout",
     "output_type": "stream",
     "text": [
      " * sqlite:///council.db\n",
      "Done.\n",
      "Done.\n",
      "Done.\n",
      "Done.\n"
     ]
    },
    {
     "data": {
      "text/plain": [
       "[]"
      ]
     },
     "execution_count": 4,
     "metadata": {},
     "output_type": "execute_result"
    }
   ],
   "source": [
    "%%sql\n",
    "DROP TABLE IF EXISTS Grants;\n",
    "CREATE TABLE Grants (\n",
    "    callNumber INTEGER PRIMARY KEY AUTOINCREMENT,\n",
    "    applicationDeadline DATE DEFAULT CURRENT_DATE,\n",
    "    status TEXT CHECK (status IN ('open', 'closed'))\n",
    ");\n",
    "\n",
    "DROP TABLE IF EXISTS GrantDetails;\n",
    "CREATE TABLE GrantDetails (\n",
    "    callNumber INTEGER PRIMARY KEY,\n",
    "    title TEXT NOT NULL CHECK (title <> ''),\n",
    "    description TEXT DEFAULT '',\n",
    "    area CHAR(15) DEFAULT '',\n",
    "    FOREIGN KEY (callNumber) REFERENCES Grants(callNumber)\n",
    ");"
   ]
  },
  {
   "cell_type": "code",
   "execution_count": 5,
   "metadata": {},
   "outputs": [
    {
     "name": "stdout",
     "output_type": "stream",
     "text": [
      " * sqlite:///council.db\n",
      "Done.\n",
      "Done.\n",
      "Done.\n",
      "Done.\n",
      "Done.\n",
      "Done.\n"
     ]
    },
    {
     "data": {
      "text/plain": [
       "[]"
      ]
     },
     "execution_count": 5,
     "metadata": {},
     "output_type": "execute_result"
    }
   ],
   "source": [
    "%%sql\n",
    "DROP TABLE IF EXISTS ProposalDetails;\n",
    "CREATE TABLE ProposalDetails (\n",
    "    proposalNumber INTEGER PRIMARY KEY AUTOINCREMENT,\n",
    "    requestedAmount INTEGER,\n",
    "    applicationStatus TEXT NOT NULL CHECK (applicationStatus IN ('submitted', 'awarded', 'not awarded' )),\n",
    "    awardedAmount INTEGER,\n",
    "    date DATE,\n",
    "    CHECK ((applicationStatus = 'awarded' AND awardedAmount IS NOT NULL) OR (applicationStatus <> 'awarded' AND awardedAmount IS NULL))\n",
    ");\n",
    "\n",
    "DROP TABLE IF EXISTS GrantProposals;\n",
    "CREATE TABLE GrantProposals (\n",
    "    proposalNumber INTEGER,\n",
    "    callNumber INTEGER,\n",
    "    principalInvestigator TEXT NOT NULL,\n",
    "    collaborators TEXT,\n",
    "    FOREIGN KEY (proposalNumber) REFERENCES ProposalDetails(proposalNumber),\n",
    "    FOREIGN KEY (callNumber) REFERENCES Researcher(emailAddress),\n",
    "    FOREIGN KEY (principalInvestigator) REFERENCES Researcher(emailAddress),\n",
    "    FOREIGN KEY (collaborators) REFERENCES Researcher(emailAddress),\n",
    "    PRIMARY KEY (proposalNumber, principalInvestigator, collaborators)\n",
    ");\n",
    "\n",
    "DROP TRIGGER IF EXISTS check_collaborators;\n",
    "CREATE TRIGGER check_collaborators\n",
    "BEFORE INSERT ON GrantProposals\n",
    "FOR EACH ROW\n",
    "BEGIN\n",
    "    SELECT CASE\n",
    "        WHEN NEW.collaborators = NEW.principalInvestigator THEN\n",
    "            RAISE(ABORT, 'Collaborators cannot be the same as Principal Investigator')\n",
    "    END;\n",
    "END;"
   ]
  },
  {
   "cell_type": "code",
   "execution_count": 6,
   "metadata": {},
   "outputs": [
    {
     "name": "stdout",
     "output_type": "stream",
     "text": [
      " * sqlite:///council.db\n",
      "Done.\n",
      "Done.\n",
      "Done.\n",
      "Done.\n"
     ]
    },
    {
     "data": {
      "text/plain": [
       "[]"
      ]
     },
     "execution_count": 6,
     "metadata": {},
     "output_type": "execute_result"
    }
   ],
   "source": [
    "%%sql\n",
    "DROP TABLE IF EXISTS ReviewerDetails;\n",
    "CREATE TABLE ReviewerDetails (\n",
    "    reviewer TEXT,\n",
    "    proposalNumber INTEGER,\n",
    "    coReviewers TEXT DEFAULT '',\n",
    "    FOREIGN KEY (reviewer) REFERENCES Researcher(emailAddress),\n",
    "    FOREIGN KEY (proposalNumber) REFERENCES ProposalDetails(proposalNumber),\n",
    "    FOREIGN KEY (coReviewers) REFERENCES Researcher(emailAddress),\n",
    "    PRIMARY KEY (reviewer, proposalNumber, coReviewers)\n",
    ");\n",
    "\n",
    "DROP TRIGGER IF EXISTS check_coReviewers;\n",
    "CREATE TRIGGER check_coReviewers\n",
    "BEFORE INSERT ON ReviewerDetails\n",
    "FOR EACH ROW\n",
    "BEGIN\n",
    "    SELECT CASE\n",
    "        WHEN NEW.reviewer = NEW.coReviewers THEN\n",
    "            RAISE(ABORT, 'reviewer and coReviewers cannot have the same value')\n",
    "    END;\n",
    "END;"
   ]
  },
  {
   "cell_type": "code",
   "execution_count": 7,
   "metadata": {},
   "outputs": [
    {
     "name": "stdout",
     "output_type": "stream",
     "text": [
      " * sqlite:///council.db\n",
      "Done.\n",
      "Done.\n",
      "Done.\n",
      "Done.\n"
     ]
    },
    {
     "data": {
      "text/plain": [
       "[]"
      ]
     },
     "execution_count": 7,
     "metadata": {},
     "output_type": "execute_result"
    }
   ],
   "source": [
    "%%sql\n",
    "DROP TABLE IF EXISTS ReviewerConflicts;\n",
    "CREATE TABLE ReviewerConflicts (\n",
    "    reviewer TEXT,\n",
    "    conflicts TEXT,\n",
    "    FOREIGN KEY (reviewer) REFERENCES ReviewerDetails(reviewer),\n",
    "    PRIMARY KEY (reviewer, conflicts) \n",
    ");\n",
    "\n",
    "DROP TRIGGER IF EXISTS check_conflicts;\n",
    "CREATE TRIGGER check_conflicts\n",
    "BEFORE INSERT ON ReviewerConflicts\n",
    "FOR EACH ROW\n",
    "BEGIN\n",
    "    SELECT CASE\n",
    "        WHEN NEW.reviewer = NEW.conflicts THEN\n",
    "            RAISE(ABORT, 'reviewer and coReviewers cannot have the same value')\n",
    "    END;\n",
    "END;"
   ]
  },
  {
   "cell_type": "code",
   "execution_count": 8,
   "metadata": {},
   "outputs": [
    {
     "name": "stdout",
     "output_type": "stream",
     "text": [
      " * sqlite:///council.db\n",
      "Done.\n",
      "Done.\n"
     ]
    },
    {
     "data": {
      "text/plain": [
       "[]"
      ]
     },
     "execution_count": 8,
     "metadata": {},
     "output_type": "execute_result"
    }
   ],
   "source": [
    "%%sql\n",
    "DROP TABLE IF EXISTS ReviewerAssignment;\n",
    "CREATE TABLE ReviewerAssignment (\n",
    "    reviewerAssignment INTEGER PRIMARY KEY AUTOINCREMENT,\n",
    "    grantCompetition INTEGER,\n",
    "    reviewers TEXT,\n",
    "    deadline DATE DEFAULT CURRENT_DATE,\n",
    "    status TEXT NOT NULL DEFAULT 'not submitted' CHECK (status IN ('submitted', 'not submitted')),\n",
    "    FOREIGN KEY (grantCompetition) REFERENCES Grants(callNumber),\n",
    "    FOREIGN KEY (reviewers) REFERENCES ReviewerDetails(reviewer)\n",
    ");"
   ]
  },
  {
   "cell_type": "code",
   "execution_count": 9,
   "metadata": {},
   "outputs": [
    {
     "name": "stdout",
     "output_type": "stream",
     "text": [
      " * sqlite:///council.db\n",
      "Done.\n",
      "Done.\n"
     ]
    },
    {
     "data": {
      "text/plain": [
       "[]"
      ]
     },
     "execution_count": 9,
     "metadata": {},
     "output_type": "execute_result"
    }
   ],
   "source": [
    "%%sql\n",
    "DROP TABLE IF EXISTS GrantMeeting;\n",
    "CREATE TABLE GrantMeeting (\n",
    "    proposalNumber INTEGER,\n",
    "    callNumber INTEGER,\n",
    "    reviewers TEXT,\n",
    "    date DATE,\n",
    "    PRIMARY KEY (proposalNumber, callNumber),\n",
    "    FOREIGN KEY (callNumber, reviewers) REFERENCES ReviewerAssignment(grantCompetition, reviewers)\n",
    ");"
   ]
  },
  {
   "cell_type": "code",
   "execution_count": 10,
   "metadata": {},
   "outputs": [
    {
     "name": "stdout",
     "output_type": "stream",
     "text": [
      " * sqlite:///council.db\n",
      "10 rows affected.\n",
      "10 rows affected.\n",
      "10 rows affected.\n",
      "10 rows affected.\n"
     ]
    },
    {
     "data": {
      "text/plain": [
       "[]"
      ]
     },
     "execution_count": 10,
     "metadata": {},
     "output_type": "execute_result"
    }
   ],
   "source": [
    "%%sql\n",
    "INSERT INTO Researcher (emailAddress, firstName, lastName, organization) VALUES\n",
    "('john@example.com', 'John', 'Doe', 'University A'),\n",
    "('alice@example.com', 'Alice', 'Smith', 'University B'),\n",
    "('bob@example.com', 'Bob', 'Johnson', 'University C'),\n",
    "('emma@example.com', 'Emma', 'Davis', 'University D'),\n",
    "('mike@example.com', 'Mike', 'Brown', 'University E'),\n",
    "('sarah@example.com', 'Sarah', 'Wilson', 'University F'),\n",
    "('chris@example.com', 'Chris', 'Jones', 'University G'),\n",
    "('jessica@example.com', 'Jessica', 'Taylor', 'University H'),\n",
    "('ryan@example.com', 'Ryan', 'Clark', 'University I'),\n",
    "('lisa@example.com', 'Lisa', 'Martinez', 'University J');\n",
    "\n",
    "INSERT INTO Grants (callNumber, status) VALUES\n",
    "(101, 'open'),\n",
    "(102, 'closed'),\n",
    "(103, 'open'),\n",
    "(104, 'open'),\n",
    "(105, 'closed'),\n",
    "(106, 'open'),\n",
    "(107, 'closed'),\n",
    "(108, 'open'),\n",
    "(109, 'closed'),\n",
    "(110, 'open');\n",
    "\n",
    "INSERT INTO GrantDetails (callNumber, title, description, area) VALUES\n",
    "(101, 'Research Grant', 'Funding for research projects', 'Science'),\n",
    "(102, 'Education Grant', 'Funding for educational initiatives', 'Education'),\n",
    "(103, 'Healthcare Grant', 'Funding for healthcare projects', 'Health'),\n",
    "(104, 'Community Grant', 'Funding for community development', 'Community'),\n",
    "(105, 'Technology Grant', 'Funding for technology projects', 'Technology'),\n",
    "(106, 'Arts Grant', 'Funding for arts and culture', 'Arts'),\n",
    "(107, 'Environment Grant', 'Funding for environmental projects', 'Environment'),\n",
    "(108, 'Sports Grant', 'Funding for sports and recreation', 'Sports'),\n",
    "(109, 'Business Grant', 'Funding for business initiatives', 'Business'),\n",
    "(110, 'Humanitarian Grant', 'Funding for humanitarian projects', 'Humanitarian');\n",
    "\n",
    "\n",
    "INSERT INTO ProposalDetails (proposalNumber, requestedAmount, applicationStatus, awardedAmount, date) VALUES\n",
    "(1, 25000, 'submitted', NULL, '2024-03-15'),\n",
    "(2, 15000, 'awarded', 12000, '2024-03-20'),\n",
    "(3, 30000, 'not awarded', NULL, '2024-03-10'),\n",
    "(4, 20000, 'submitted', NULL, '2024-03-12'),\n",
    "(5, 35000, 'submitted', NULL, '2024-03-18'),\n",
    "(6, 18000, 'submitted', NULL, '2024-03-22'),\n",
    "(7, 28000, 'awarded', 24000, '2024-03-25'),\n",
    "(8, 32000, 'not awarded', NULL, '2024-03-30'),\n",
    "(9, 21000, 'submitted', NULL, '2024-03-11'),\n",
    "(10, 40000, 'awarded', 35000, '2024-03-19');"
   ]
  },
  {
   "cell_type": "code",
   "execution_count": 11,
   "metadata": {},
   "outputs": [
    {
     "name": "stdout",
     "output_type": "stream",
     "text": [
      " * sqlite:///council.db\n",
      "8 rows affected.\n"
     ]
    },
    {
     "data": {
      "text/plain": [
       "[]"
      ]
     },
     "execution_count": 11,
     "metadata": {},
     "output_type": "execute_result"
    }
   ],
   "source": [
    "%%sql\n",
    "INSERT INTO GrantProposals (proposalNumber, callNumber, principalInvestigator, collaborators) VALUES\n",
    "(2, 102, 'bob@example.com', 'mike@example.com'),\n",
    "(2, 102, 'bob@example.com', 'emma@example.com'),\n",
    "(3, 103, 'mike@example.com', 'alice@example.com'),\n",
    "(4, 104, 'mike@example.com', 'john@example.com'),\n",
    "(5, 107, 'chris@example.com', 'alice@example.com'),\n",
    "(6, 107, 'chris@example.com', 'emma@example.com'),\n",
    "(7, 108, 'ryan@example.com', 'alice@example.com'),\n",
    "(8, 110, 'lisa@example.com', 'john@example.com');"
   ]
  },
  {
   "cell_type": "code",
   "execution_count": 12,
   "metadata": {},
   "outputs": [
    {
     "name": "stdout",
     "output_type": "stream",
     "text": [
      " * sqlite:///council.db\n",
      "10 rows affected.\n",
      "10 rows affected.\n"
     ]
    },
    {
     "data": {
      "text/plain": [
       "[]"
      ]
     },
     "execution_count": 12,
     "metadata": {},
     "output_type": "execute_result"
    }
   ],
   "source": [
    "%%sql\n",
    "INSERT INTO ReviewerDetails (reviewer, proposalNumber, coReviewers) VALUES\n",
    "('john@example.com', 1, 'alice@example.com'),\n",
    "('john@example.com', 1, 'lisa@example.com'),\n",
    "('bob@example.com', 3, 'mike@example.com'),\n",
    "('bob@example.com', 3, 'john@example.com'),\n",
    "('mike@example.com', 5, 'alice@example.com'),\n",
    "('sarah@example.com', 6, 'john@example.com'),\n",
    "('chris@example.com', 7, 'alice@example.com'),\n",
    "('jessica@example.com', 7, 'emma@example.com'),\n",
    "('ryan@example.com', 9, 'alice@example.com'),\n",
    "('lisa@example.com', 10, 'john@example.com');\n",
    "\n",
    "\n",
    "INSERT INTO ReviewerConflicts (reviewer, conflicts) VALUES\n",
    "('john@example.com', 'alice@example.com'),\n",
    "('john@example.com', 'bob@example.com'),\n",
    "('bob@example.com', 'mike@example.com'),\n",
    "('emma@example.com', 'bob@example.com'),\n",
    "('mike@example.com', 'emma@example.com'),\n",
    "('mike@example.com', 'john@example.com'),\n",
    "('chris@example.com', 'alice@example.com'),\n",
    "('jessica@example.com', 'bob@example.com'),\n",
    "('ryan@example.com', 'alice@example.com'),\n",
    "('ryan@example.com', 'jessica@example.com');"
   ]
  },
  {
   "cell_type": "code",
   "execution_count": 13,
   "metadata": {},
   "outputs": [
    {
     "name": "stdout",
     "output_type": "stream",
     "text": [
      " * sqlite:///council.db\n",
      "10 rows affected.\n",
      "10 rows affected.\n"
     ]
    },
    {
     "data": {
      "text/plain": [
       "[]"
      ]
     },
     "execution_count": 13,
     "metadata": {},
     "output_type": "execute_result"
    }
   ],
   "source": [
    "%%sql\n",
    "INSERT INTO ReviewerAssignment (grantCompetition, reviewers, deadline, status) VALUES\n",
    "(101, 'john@example.com', '2024-03-25', 'submitted'),\n",
    "(101, 'alice@example.com', '2024-03-25', 'submitted'),\n",
    "(102, 'bob@example.com', '2024-03-28', 'submitted'),\n",
    "(103, 'emma@example.com', '2024-03-30', 'submitted'),\n",
    "(104, 'mike@example.com', '2024-04-02', 'submitted'),\n",
    "(105, 'sarah@example.com', '2024-04-05', 'submitted'),\n",
    "(106, 'chris@example.com', '2024-04-08', 'submitted'),\n",
    "(107, 'jessica@example.com', '2024-04-10', 'submitted'),\n",
    "(108, 'ryan@example.com', '2024-04-12', 'submitted'),\n",
    "(109, 'lisa@example.com', '2024-04-15', 'submitted');\n",
    "\n",
    "INSERT INTO GrantMeeting (proposalNumber, callNumber, reviewers, date) VALUES\n",
    "(1, 101, 'john@example.com, alice@example.com', '2024-04-01'),\n",
    "(2, 101, 'alice@example.com, bob@example.com', '2024-04-01'),\n",
    "(3, 102, 'bob@example.com, emma@example.com', '2024-04-02'),\n",
    "(4, 103, 'emma@example.com, mike@example.com', '2024-04-03'),\n",
    "(5, 104, 'mike@example.com, sarah@example.com', '2024-04-04'),\n",
    "(6, 105, 'sarah@example.com, chris@example.com', '2024-04-05'),\n",
    "(7, 106, 'chris@example.com, jessica@example.com', '2024-04-06'),\n",
    "(8, 107, 'jessica@example.com, ryan@example.com', '2024-04-07'),\n",
    "(9, 108, 'ryan@example.com, lisa@example.com', '2024-04-08'),\n",
    "(10, 109, 'lisa@example.com, john@example.com', '2024-04-09');\n"
   ]
  }
 ],
 "metadata": {
  "kernelspec": {
   "display_name": "Python 3 (ipykernel)",
   "language": "python",
   "name": "python3"
  },
  "language_info": {
   "codemirror_mode": {
    "name": "ipython",
    "version": 3
   },
   "file_extension": ".py",
   "mimetype": "text/x-python",
   "name": "python",
   "nbconvert_exporter": "python",
   "pygments_lexer": "ipython3",
   "version": "3.11.5"
  }
 },
 "nbformat": 4,
 "nbformat_minor": 4
}
